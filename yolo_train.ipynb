{
  "nbformat": 4,
  "nbformat_minor": 0,
  "metadata": {
    "colab": {
      "provenance": [],
      "gpuType": "T4"
    },
    "kernelspec": {
      "name": "python3",
      "display_name": "Python 3"
    },
    "language_info": {
      "name": "python"
    },
    "accelerator": "GPU"
  },
  "cells": [
    {
      "cell_type": "code",
      "execution_count": null,
      "metadata": {
        "colab": {
          "base_uri": "https://localhost:8080/"
        },
        "id": "O96S4MPRmb3B",
        "outputId": "264c1319-3b35-4079-e6fa-891300b044f7",
        "collapsed": true
      },

      "source": [
        "!git clone https://github.com/ultralytics/yolov5.git\n",
        "%cd yolov5\n",
        "!pip install -r requirements.txt"
      ]
    },
    {
      "cell_type": "code",
      "source": [
        "!mkdir -p /content/yolov5/data/scripts\n",
        "# COCO2YOLO.py\n",
        "!wget -O /content/yolov5/data/scripts/COCO2YOLO.py https://raw.githubusercontent.com/alexmihalyk23/COCO2YOLO/3d04bf84e6252166d04ed465c58ee481a421e68e/COCO2YOLO.py"
      ],
      "metadata": {
        "colab": {
          "base_uri": "https://localhost:8080/"
        },
        "id": "8m0WHyS7mgif",
        "outputId": "f5ba6345-168a-4737-9b42-13fa8fc16a89"
      },
      "execution_count": null,
      
    },
    {
      "cell_type": "code",
      "source": [
        "# COCO 데이터셋\n",
        "!curl -L \"http://images.cocodataset.org/zips/train2017.zip\" > train2017.zip\n",
        "!curl -L \"http://images.cocodataset.org/zips/val2017.zip\" > val2017.zip\n",
        "!curl -L \"http://images.cocodataset.org/annotations/annotations_trainval2017.zip\" > annotations_trainval2017.zip\n",
        "\n",
        "!unzip -q train2017.zip -d datasets/\n",
        "!unzip -q val2017.zip -d datasets/\n",
        "!unzip -q annotations_trainval2017.zip -d datasets/"
      ],
      "metadata": {
        "colab": {
          "base_uri": "https://localhost:8080/"
        },
        "id": "Tz2XbXq8miR-",
        "outputId": "03b73c63-317a-424f-8787-12d088b25758"
      },
      "execution_count": null,
      
    },
    {
      "cell_type": "code",
      "source": [
        "import json\n",
        "from pathlib import Path\n",
        "import os\n",
        "\n",
        "train_annotations_path = 'datasets/annotations/instances_train2017.json'\n",
        "val_annotations_path = 'datasets/annotations/instances_val2017.json'\n",
        "train_images_dir = 'datasets/train2017'\n",
        "val_images_dir = 'datasets/val2017'\n",
        "\n",
        "vehicle_class_ids = [2, 3, 4, 6, 8]\n",
        "\n",
        "def filter_coco_annotations(input_path, output_path, class_ids):\n",
        "    with open(input_path) as f:\n",
        "        data = json.load(f)\n",
        "\n",
        "    filtered_images = []\n",
        "    filtered_annotations = []\n",
        "    image_ids = set()\n",
        "\n",
        "    for annotation in data['annotations']:\n",
        "        if annotation['category_id'] in class_ids:\n",
        "            filtered_annotations.append(annotation)\n",
        "            image_ids.add(annotation['image_id'])\n",
        "\n",
        "    for image in data['images']:\n",
        "        if image['id'] in image_ids:\n",
        "            filtered_images.append(image)\n",
        "\n",
        "    filtered_data = {\n",
        "        'images': filtered_images,\n",
        "        'annotations': filtered_annotations,\n",
        "        'categories': [cat for cat in data['categories'] if cat['id'] in class_ids]\n",
        "    }\n",
        "\n",
        "    with open(output_path, 'w') as f:\n",
        "        json.dump(filtered_data, f)\n",
        "\n",
        "    return image_ids\n",
        "\n",
        "def delete_unnecessary_images(image_dir, keep_image_ids):\n",
        "    for image_file in os.listdir(image_dir):\n",
        "        image_id = int(Path(image_file).stem.lstrip('0'))\n",
        "        if image_id not in keep_image_ids:\n",
        "            os.remove(os.path.join(image_dir, image_file))\n",
        "\n",
        "train_keep_ids = filter_coco_annotations(train_annotations_path, 'datasets/annotations/filtered_train2017.json', vehicle_class_ids)\n",
        "val_keep_ids = filter_coco_annotations(val_annotations_path, 'datasets/annotations/filtered_val2017.json', vehicle_class_ids)\n",
        "\n",
        "delete_unnecessary_images(train_images_dir, train_keep_ids)\n",
        "delete_unnecessary_images(val_images_dir, val_keep_ids)\n"
      ],
      "metadata": {
        "colab": {
          "base_uri": "https://localhost:8080/"
        },
        "id": "-xlVXvb-mk1E",
        "outputId": "5ae646ee-79f9-40e0-8a54-95cd1bde0922"
      },
      "execution_count": null,
      "outputs": [
        {
          "output_type": "stream",
          "name": "stdout",
          "text": [
            "차량 관련 이미지만 남기고 필터링 및 삭제가 완료되었습니다.\n"
          ]
        }
      ]
    },
    {
      "cell_type": "code",
      "source": [
        "!python data/scripts/COCO2YOLO.py -j datasets/annotations/filtered_train2017.json -o datasets/yolo_format/train\n",
        "!python data/scripts/COCO2YOLO.py -j datasets/annotations/filtered_val2017.json -o datasets/yolo_format/val"
      ],
      "metadata": {
        "colab": {
          "base_uri": "https://localhost:8080/"
        },
        "id": "ozsyEiHzmm5x",
        "outputId": "4cd9a7c4-c75f-4035-e84a-bc8f719d5d8c"
      },
      "execution_count": null,
      
    },
    {
      "cell_type": "code",
      "source": [
        "!mv /content/yolov5/datasets/yolo_format/val/*.txt /content/yolov5/datasets/val2017/\n",
        "!mv /content/yolov5/datasets/yolo_format/train/*.txt /content/yolov5/datasets/train2017/"
      ],
      "metadata": {
        "id": "eNBHJ_PHmov7"
      },
      "execution_count": null,
      "outputs": []
    },
    {
      "cell_type": "code",
      "source": [
        "%%writefile data/vehicle.yaml\n",
        "train: datasets/train2017\n",
        "val: datasets/val2017\n",
        "\n",
        "nc: 4  # 클래스 수\n",
        "names: ['bicycle', 'car', 'motorcycle', 'bus', 'truck']  # 클래스 이름"
      ],
      "metadata": {
        "colab": {
          "base_uri": "https://localhost:8080/"
        },
        "id": "ZTI1wjjwmq8J",
        "outputId": "1e2b118d-ff87-4335-ec8c-ecaeb673e3ea"
      },
      "execution_count": null,
      "outputs": [
        {
          "output_type": "stream",
          "name": "stdout",
          "text": [
            "Overwriting data/vehicle.yaml\n"
          ]
        }
      ]
    },
    {
      "cell_type": "code",
      "source": [
        "!python train.py --img 640 --batch 16 --epochs 100 --data data/vehicle.yaml --weights yolov5s.pt"
      ],
      "metadata": {
        "colab": {
          "base_uri": "https://localhost:8080/"
        },
        "id": "exD9PdLrmrY1",
        "outputId": "ad98219e-1014-4069-c9bf-8112138fbace"
      },
      "execution_count": null,
      "outputs": [
        {
          "output_type": "stream",
          "name": "stdout",
          "text": [
            "python3: can't open file '/content/train.py': [Errno 2] No such file or directory\n"
          ]
        }
      ]
    }
  ]
}
